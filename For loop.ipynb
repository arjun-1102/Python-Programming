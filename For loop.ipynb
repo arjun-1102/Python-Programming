{
 "cells": [
  {
   "cell_type": "code",
   "execution_count": 1,
   "metadata": {},
   "outputs": [
    {
     "name": "stdout",
     "output_type": "stream",
     "text": [
      "Hello world :  0\n",
      "Hello world :  1\n",
      "Hello world :  2\n",
      "Hello world :  3\n",
      "Hello world :  4\n",
      "Hello world :  5\n",
      "Hello world :  6\n",
      "Hello world :  7\n",
      "Hello world :  8\n",
      "Hello world :  9\n"
     ]
    }
   ],
   "source": [
    "### For loop in range\n",
    "\n",
    "for i in range(10):\n",
    "    print(\"Hello world : \",i)"
   ]
  },
  {
   "cell_type": "code",
   "execution_count": 5,
   "metadata": {},
   "outputs": [
    {
     "name": "stdout",
     "output_type": "stream",
     "text": [
      "[20, 100, 1000]\n"
     ]
    }
   ],
   "source": [
    "mylist=[20,100,1000]\n",
    "print(mylist)"
   ]
  },
  {
   "cell_type": "code",
   "execution_count": 6,
   "metadata": {},
   "outputs": [
    {
     "name": "stdout",
     "output_type": "stream",
     "text": [
      "Hello world 20\n",
      "Hello world 100\n",
      "Hello world 1000\n"
     ]
    }
   ],
   "source": [
    "for i in mylist:\n",
    "    print(\"Hello world\", i)"
   ]
  },
  {
   "cell_type": "code",
   "execution_count": null,
   "metadata": {
    "collapsed": true
   },
   "outputs": [],
   "source": []
  }
 ],
 "metadata": {
  "kernelspec": {
   "display_name": "Python 3",
   "language": "python",
   "name": "python3"
  },
  "language_info": {
   "codemirror_mode": {
    "name": "ipython",
    "version": 3
   },
   "file_extension": ".py",
   "mimetype": "text/x-python",
   "name": "python",
   "nbconvert_exporter": "python",
   "pygments_lexer": "ipython3",
   "version": "3.6.3"
  }
 },
 "nbformat": 4,
 "nbformat_minor": 2
}
