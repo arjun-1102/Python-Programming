{
 "cells": [
  {
   "cell_type": "code",
   "execution_count": 10,
   "metadata": {},
   "outputs": [],
   "source": [
    "##----- -2 ----- -1 ----- 0 ----- 1 ----- 2 -----\n",
    "import numpy as np\n",
    "from numpy.random import randn\n",
    "\n",
    "x=randn()\n"
   ]
  },
  {
   "cell_type": "code",
   "execution_count": 37,
   "metadata": {},
   "outputs": [
    {
     "name": "stdout",
     "output_type": "stream",
     "text": [
      "Between -1 and 1\n",
      "-0.5382520660189986\n"
     ]
    }
   ],
   "source": [
    "##----- -2 ----- -1 ----- 0 ----- 1 ----- 2 -----\n",
    "import numpy as np\n",
    "from numpy.random import randn\n",
    "x=randn()\n",
    "if x>1:\n",
    "    answer=\"Greater than 1\"\n",
    "elif x>-1:\n",
    "    answer=\"Between -1 and 1\"\n",
    "else:\n",
    "    answer=\"Less than 1\"\n",
    "print(answer)\n",
    "print(x)\n"
   ]
  },
  {
   "cell_type": "markdown",
   "metadata": {},
   "source": [
    "----"
   ]
  },
  {
   "cell_type": "code",
   "execution_count": null,
   "metadata": {
    "collapsed": true
   },
   "outputs": [],
   "source": [
    "### -- Things to remember\n",
    "### nested if and chained if are different\n",
    "### chained if (elif) is more optimized\n"
   ]
  }
 ],
 "metadata": {
  "kernelspec": {
   "display_name": "Python 3",
   "language": "python",
   "name": "python3"
  },
  "language_info": {
   "codemirror_mode": {
    "name": "ipython",
    "version": 3
   },
   "file_extension": ".py",
   "mimetype": "text/x-python",
   "name": "python",
   "nbconvert_exporter": "python",
   "pygments_lexer": "ipython3",
   "version": "3.6.3"
  }
 },
 "nbformat": 4,
 "nbformat_minor": 2
}
